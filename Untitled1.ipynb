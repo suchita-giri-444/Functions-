{
  "nbformat": 4,
  "nbformat_minor": 0,
  "metadata": {
    "colab": {
      "provenance": []
    },
    "kernelspec": {
      "name": "python3",
      "display_name": "Python 3"
    },
    "language_info": {
      "name": "python"
    }
  },
  "cells": [
    {
      "cell_type": "markdown",
      "source": [
        "#Functions questions"
      ],
      "metadata": {
        "id": "2Bu-W5MlVk5Q"
      }
    },
    {
      "cell_type": "markdown",
      "source": [
        "1. What is the difference between a function and a method in Python?\n",
        "-> In Python, a function is a block of code that performs a task and can be called on its own, not tied to any object. For example, a function like greet(name) returns a greeting message. A method, on the other hand, is a function that is part of a class and works with objects created from that class. It always takes at least one parameter, usually self, which refers to the object itself. For example, a method like greet(self) in a Person class is called using an object (like person.greet()). The main difference is that methods belong to objects, while functions do not.\n",
        "\n",
        "* example ->"
      ],
      "metadata": {
        "id": "2e9nVyEsVpvv"
      }
    },
    {
      "cell_type": "code",
      "source": [
        "# Function\n",
        "def greet(name):\n",
        "    return f\"Hello, {name}!\"\n",
        "\n",
        "# Method inside a class\n",
        "class Person:\n",
        "    def __init__(self, name):\n",
        "        self.name = name\n",
        "\n",
        "    def greet(self):  # This is a method\n",
        "        return f\"Hello, {self.name}!\"\n",
        "\n",
        "# Calling the function\n",
        "print(greet(\"Alice\"))  # Output: Hello, Alice!\n",
        "\n",
        "# Calling the method\n",
        "person = Person(\"Bob\")\n",
        "print(person.greet())  # Output: Hello, Bob!"
      ],
      "metadata": {
        "id": "rcqVpwWWVv7I"
      },
      "execution_count": null,
      "outputs": []
    },
    {
      "cell_type": "markdown",
      "source": [
        " 2. Explain the concept of function arguments and parameters in Python.\n",
        "\n",
        " -> In Python, function parameters and arguments are closely related concepts, but they refer to different things.\n",
        "\n",
        "Parameters are the variables listed in the function definition. They act as placeholders for the values that will be passed to the function when it is called. For example, in the function def greet(name):, name is a parameter.\n",
        "\n",
        "Arguments are the actual values that you provide when calling the function. These are the values that get assigned to the corresponding parameters. For example, in the call greet(\"Alice\"), \"Alice\" is the argument passed to the function.\n",
        "\n",
        "# * example"
      ],
      "metadata": {
        "id": "LlMhyV81VyFQ"
      }
    },
    {
      "cell_type": "code",
      "source": [
        "def greet(name):  # 'name' is the parameter\n",
        "    print(f\"Hello, {name}!\")\n",
        "\n",
        "greet(\"Alice\")  # 'Alice' is the argument"
      ],
      "metadata": {
        "id": "ga0TO52bV0lb"
      },
      "execution_count": null,
      "outputs": []
    },
    {
      "cell_type": "markdown",
      "source": [
        " 3. What are the different ways to define and call a function in Python?\n",
        "\n",
        " ->\n",
        " * Ways to Define and Call Functions:\n",
        " 1. **Basic function:** Define with def and call by passing arguments.\n",
        "2. **Return value:** Define with return to send a result.\n",
        "3. **Default arguments:** Set default values for parameters.\n",
        "4.  **Variable-length arguments:** Use *args and **kwargs for flexible arguments.\n",
        "5. **Lambda functions:** Define small anonymous functions with lambda.\n",
        "6. **Nested functions:** Define functions inside other functions.\n",
        "7. **Function composition:** Call one function inside another.\n",
        "\n",
        "* Example of  Calling Functions from Other Functions (Function Composition)"
      ],
      "metadata": {
        "id": "a9yJAkVHV264"
      }
    },
    {
      "cell_type": "code",
      "source": [
        "def multiply(a, b):\n",
        "    return a * b\n",
        "\n",
        "def add(a, b):\n",
        "    return a + b\n",
        "\n",
        "def calculate(a, b):\n",
        "    result = add(a, b)\n",
        "    return multiply(result, 2)\n",
        "\n",
        "print(calculate(3, 4))  # Output: 14"
      ],
      "metadata": {
        "id": "7EogJeVIV5dp"
      },
      "execution_count": null,
      "outputs": []
    },
    {
      "cell_type": "markdown",
      "source": [
        "4. What is the purpose of the `return` statement in a Python function?\n",
        "\n",
        " -> The return statement in a Python function is used to send back a value from the function to the caller. It marks the end of the function’s execution and optionally passes a result back to where the function was called. If no return statement is provided, the function returns None by default.\n",
        "\n",
        "**Key purposes of the return statement:**\n",
        "1. **Return a result:** It allows you to return a calculated value, making the function's output available for further use.\n",
        "2. **End function execution:** It stops the function's execution and exits, meaning no code after the return statement will be executed.\n",
        "3. **Pass data between functions:** By returning values, functions can communicate with each other or pass data back to the caller for further processing.\n",
        "\n",
        "* example"
      ],
      "metadata": {
        "id": "Eqd9UXvuV8Jp"
      }
    },
    {
      "cell_type": "code",
      "source": [
        "def add(a, b):\n",
        "    result = a + b\n",
        "    return result  # Returning the result of the addition\n",
        "\n",
        "sum_value = add(3, 5)  # The return value (8) is stored in 'sum_value'\n",
        "print(sum_value)  # Output: 8"
      ],
      "metadata": {
        "id": "THy2WBUbV-fX"
      },
      "execution_count": null,
      "outputs": []
    },
    {
      "cell_type": "markdown",
      "source": [
        "5. What are iterators in Python and how do they differ from iterables?\n",
        "\n",
        " -> In Python, an iterable is any object that can be iterated over, such as lists, tuples, and strings, and it implements the __iter__() method that returns an iterator. An iterator, on the other hand, is an object that keeps track of the current position in the iterable and provides the next value using the __next__() method. When there are no more values, the iterator raises a StopIteration exception. While an iterable can be used with a for loop, an iterator is the actual object that allows iteration by producing one item at a time upon calling next(). The key difference is that iterables are objects that can generate iterators, and iterators are objects that consume iterables to yield their elements.\n",
        "\n",
        " * Example"
      ],
      "metadata": {
        "id": "7If14rcCWAiw"
      }
    },
    {
      "cell_type": "code",
      "source": [
        "# Define an iterable (a list)\n",
        "my_list = [1, 2, 3]\n",
        "\n",
        "# Get an iterator from the iterable\n",
        "my_iterator = iter(my_list)\n",
        "\n",
        "# Use the iterator to access elements one by one\n",
        "print(next(my_iterator))  # Output: 1\n",
        "print(next(my_iterator))  # Output: 2\n",
        "print(next(my_iterator))  # Output: 3\n",
        "\n",
        "# Calling next() again will raise StopIteration because the iterator is exhausted\n",
        "# print(next(my_iterator))  # This would raise StopIteration"
      ],
      "metadata": {
        "id": "51BslOJMWC9o"
      },
      "execution_count": null,
      "outputs": []
    },
    {
      "cell_type": "markdown",
      "source": [
        "6. Explain the concept of generators in Python and how they are defined.\n",
        "\n",
        " -> In Python, a generator is a special type of iterator that allows you to iterate over a sequence of values lazily, meaning values are generated one at a time as they are needed, rather than storing the entire sequence in memory at once. This makes generators memory efficient, especially when working with large datasets or infinite sequences.\n",
        "\n",
        "**Key Features of Generators:**\n",
        "1. **Lazy Evaluation:** Generators produce values one at a time, only when requested, which helps conserve memory.\n",
        "2. **State Preservation:** Unlike regular functions, generators remember their state between calls. This is because they use the yield keyword instead of return.\n",
        "3. **Iteration:** You can iterate over a generator using a for loop or by calling next().\n",
        "**Defining a Generator:**\n",
        "Generators are defined using functions, but instead of using the return statement, they use the yield keyword to yield values one at a time. When the generator function is called, it returns an iterator, and the code inside the generator function is executed each time a value is requested.\n",
        "\n",
        "* Example of a Generator:"
      ],
      "metadata": {
        "id": "skGZKHfzWFRo"
      }
    },
    {
      "cell_type": "code",
      "source": [
        "def count_up_to(max):\n",
        "    count = 1\n",
        "    while count <= max:\n",
        "        yield count  # Yielding a value, suspending the function's state\n",
        "        count += 1\n",
        "\n",
        "# Using the generator\n",
        "counter = count_up_to(5)\n",
        "\n",
        "for num in counter:\n",
        "    print(num)"
      ],
      "metadata": {
        "id": "pRxx6CqcWcSf"
      },
      "execution_count": null,
      "outputs": []
    },
    {
      "cell_type": "markdown",
      "source": [
        " 7. What are the advantages of using generators over regular functions?\n",
        "\n",
        " -> **Generators provide several advantages over regular functions:**\n",
        "\n",
        "1. **Memory Efficiency:** They generate values one at a time, using less memory compared to regular functions that store all values at once.\n",
        "2. **Lazy Evaluation:** Values are computed only when needed, allowing immediate processing without waiting for the entire sequence.\n",
        "3. **Infinite Sequences:** Generators can handle infinite sequences without consuming infinite memory, as they yield values one by one.\n",
        "4. **Improved Performance:** They are faster for large datasets because they don’t store or process the entire dataset at once.\n",
        "5. **No Extra Data Structures: **Generators avoid the need for lists or other structures, simplifying the code and saving memory.\n",
        "6. **Pipelining:** Generators can be easily chained together, allowing for step-by-step data processing.\n",
        "\n",
        "\n",
        "Overall, generators are efficient for working with large or infinite data sequences, offering better memory and performance than regular functions."
      ],
      "metadata": {
        "id": "NWNdjcyoWh4Y"
      }
    },
    {
      "cell_type": "code",
      "source": [
        "# Generator to generate numbers\n",
        "def generate_numbers(n):\n",
        "    for i in range(n):\n",
        "        yield i  # Yielding one number at a time\n",
        "\n",
        "# Generator to square numbers\n",
        "def square_numbers(numbers):\n",
        "    for number in numbers:\n",
        "        yield number * number  # Yielding the square of each number\n",
        "\n",
        "# Generator to filter even numbers\n",
        "def filter_even(numbers):\n",
        "    for number in numbers:\n",
        "        if number % 2 == 0:\n",
        "            yield number  # Yielding only even numbers\n",
        "\n",
        "# Infinite generator function\n",
        "def infinite_count():\n",
        "    count = 0\n",
        "    while True:\n",
        "        yield count  # Keeps generating numbers indefinitely\n",
        "        count += 1\n",
        "\n",
        "# Using the generators\n",
        "\n",
        "# 1. Using the finite generate_numbers generator\n",
        "print(\"Using finite generator for first 5 numbers:\")\n",
        "numbers = generate_numbers(5)\n",
        "for number in numbers:\n",
        "    print(number)\n",
        "\n",
        "# 2. Using the infinite_count generator\n",
        "print(\"\\nUsing infinite generator for first 5 numbers:\")\n",
        "counter = infinite_count()\n",
        "for _ in range(5):\n",
        "    print(next(counter))\n",
        "\n",
        "# 3. Chaining generators to square numbers and filter even squares\n",
        "print(\"\\nUsing chained generators to square and filter even numbers:\")\n",
        "numbers = generate_numbers(10)  # Generate first 10 numbers\n",
        "squared = square_numbers(numbers)  # Square the numbers\n",
        "even_squares = filter_even(squared)  # Filter only even squares\n",
        "\n",
        "for even_square in even_squares:\n",
        "    print(even_square"
      ],
      "metadata": {
        "id": "qm8xbvHPWkGo"
      },
      "execution_count": null,
      "outputs": []
    },
    {
      "cell_type": "markdown",
      "source": [
        "8. What is a lambda function in Python and when is it typically used?\n",
        "\n",
        " -> A lambda function in Python is a small, anonymous function defined using the lambda keyword. It can take any number of arguments but contains only one expression, which is automatically returned.\n",
        "\n",
        "**Typical Uses:**\n",
        "1. **Short, simple functions:** For small operations that don't require full function definitions.\n",
        "2. **Functions as arguments:** Used in functions like map(), filter(), and sorted().\n",
        "3.  For defining quick functions to pass as arguments.\n",
        "\n",
        "* example is below"
      ],
      "metadata": {
        "id": "bZpx96yKWnTQ"
      }
    },
    {
      "cell_type": "code",
      "source": [
        "numbers = [1, 2, 3]\n",
        "squared = list(map(lambda x: x ** 2, numbers))\n",
        "print(squared)  # Output: [1, 4, 9]"
      ],
      "metadata": {
        "id": "5ROyjZCwWpOX"
      },
      "execution_count": null,
      "outputs": []
    },
    {
      "cell_type": "markdown",
      "source": [
        " 9. Explain the purpose and usage of the `map()` function in Python\n",
        "\n",
        " -> The map() function in Python applies a given function to each item in an iterable and returns an iterator with the results.\n",
        "\n",
        " **Use Cases:**\n",
        "1. **Transforming Data:** Apply a function to each item in a list or other iterable.\n",
        "2. **Improving Readability:** More concise than using a loop for simple operations.\n",
        "\n",
        "* example is below"
      ],
      "metadata": {
        "id": "QTJSCgiBW1jo"
      }
    },
    {
      "cell_type": "code",
      "source": [
        "numbers = [1, 2, 3]\n",
        "doubled = list(map(lambda x: x * 2, numbers))\n",
        "print(doubled)  # Output: [2, 4, 6]"
      ],
      "metadata": {
        "id": "2Dwsv0y2W3N-"
      },
      "execution_count": null,
      "outputs": []
    },
    {
      "cell_type": "markdown",
      "source": [
        "10. What is the difference between `map()`, `reduce()`, and `filter()` functions in Python?\n",
        " -> The map(), reduce(), and filter() functions in Python process iterables in different ways:\n",
        "\n",
        "1. **map():** Applies a function to each item in an iterable and returns an iterator of the results.\n",
        "Example: map(lambda x: x * 2, [1, 2, 3]) → [2, 4, 6].\n",
        "\n",
        "2. **reduce():** Applies a function cumulatively to reduce the iterable to a single value. (from functools module)\n",
        "Example: reduce(lambda x, y: x + y, [1, 2, 3, 4]) → 10.\n",
        "\n",
        "3. **filter():** Filters elements from an iterable based on a condition and returns an iterator of elements that satisfy it.\n",
        "Example: filter(lambda x: x % 2 == 0, [1, 2, 3, 4]) → [2, 4]."
      ],
      "metadata": {
        "id": "-0M1rotEW79v"
      }
    },
    {
      "cell_type": "code",
      "source": [
        "from functools import reduce\n",
        "\n",
        "# Sample list\n",
        "numbers = [1, 2, 3, 4, 5, 6, 7, 8, 9]\n",
        "\n",
        "# 1. Use map() to square each number\n",
        "squared = list(map(lambda x: x ** 2, numbers))\n",
        "\n",
        "# 2. Use filter() to get only even numbers from the squared list\n",
        "even_squared = list(filter(lambda x: x % 2 == 0, squared))\n",
        "\n",
        "# 3. Use reduce() to sum the even squared numbers\n",
        "sum_of_even_squares = reduce(lambda x, y: x + y, even_squared)\n",
        "\n",
        "print(\"Original Numbers:\", numbers)\n",
        "print(\"Squared Numbers:\", squared)\n",
        "print(\"Even Squared Numbers:\", even_squared)\n",
        "print(\"Sum of Even Squared Numbers:\", sum_of_even_squares)"
      ],
      "metadata": {
        "id": "HUp2D8WAW-NH"
      },
      "execution_count": null,
      "outputs": []
    },
    {
      "cell_type": "markdown",
      "source": [
        "11. Using pen & Paper write the internal mechanism for sum operation using  reduce function on this given  \n",
        " list:[47,11,42,13];\n",
        " -> see the attachment"
      ],
      "metadata": {
        "id": "8Mvkgb1-XCJe"
      }
    },
    {
      "cell_type": "markdown",
      "source": [
        "# Function practical questions"
      ],
      "metadata": {
        "id": "xo_vHdPJXC0f"
      }
    },
    {
      "cell_type": "markdown",
      "source": [
        " 1. Write a Python function that takes a list of numbers as input and returns the sum of all even numbers in\n",
        "the list"
      ],
      "metadata": {
        "id": "47sTNDqdXX_P"
      }
    },
    {
      "cell_type": "code",
      "source": [
        "def sum_of_even_numbers(numbers):\n",
        "    # Using list comprehension to filter and sum even numbers\n",
        "    return sum(num for num in numbers if num % 2 == 0)\n",
        "\n",
        "# Example usage\n",
        "numbers = [1, 2, 3, 4, 5, 6]\n",
        "result = sum_of_even_numbers(numbers)\n",
        "print(result)  # Output: 12 (2 + 4 + 6)"
      ],
      "metadata": {
        "id": "4va9ruLJXwL5"
      },
      "execution_count": null,
      "outputs": []
    },
    {
      "cell_type": "markdown",
      "source": [
        " 2. Create a Python function that accepts a string and returns the reverse of that string."
      ],
      "metadata": {
        "id": "wuM1I0q-XYmQ"
      }
    },
    {
      "cell_type": "code",
      "source": [
        "def reverse_string(s):\n",
        "    # Returning the reversed string using slicing\n",
        "    return s[::-1]\n",
        "\n",
        "# Example usage\n",
        "input_string = \"hello\"\n",
        "result = reverse_string(input_string)\n",
        "print(result)  # Output: \"olleh\""
      ],
      "metadata": {
        "id": "33WtFlgBXyEQ"
      },
      "execution_count": null,
      "outputs": []
    },
    {
      "cell_type": "markdown",
      "source": [
        "3. Implement a Python function that takes a list of integers and returns a new list containing the squares of\n",
        "each number."
      ],
      "metadata": {
        "id": "jClPHAC6XbI3"
      }
    },
    {
      "cell_type": "code",
      "source": [
        "def square_numbers(numbers):\n",
        "    # Using list comprehension to square each number\n",
        "    return [num ** 2 for num in numbers]\n",
        "\n",
        "# Example usage\n",
        "numbers = [1, 2, 3, 4, 5]\n",
        "result = square_numbers(numbers)\n",
        "print(result)  # Output: [1, 4, 9, 16, 25]"
      ],
      "metadata": {
        "id": "2xchYhzlXz0A"
      },
      "execution_count": null,
      "outputs": []
    },
    {
      "cell_type": "markdown",
      "source": [
        " 4. Write a Python function that checks if a given number is prime or not from 1 to 200."
      ],
      "metadata": {
        "id": "HkZAcVeSXdKR"
      }
    },
    {
      "cell_type": "code",
      "source": [
        "def is_prime(number):\n",
        "    if number <= 1:\n",
        "        return False  # Numbers less than or equal to 1 are not prime\n",
        "    for i in range(2, int(number**0.5) + 1):  # Check divisibility from 2 to sqrt(number)\n",
        "        if number % i == 0:\n",
        "            return False  # Divisible by i, so not a prime number\n",
        "    return True  # Number is prime if no divisors found\n",
        "\n",
        "# Example usage\n",
        "for num in range(1, 201):  # Check numbers from 1 to 200\n",
        "    if is_prime(num):\n",
        "        print(num, \"is prime\")"
      ],
      "metadata": {
        "id": "XvuCJwfkX19I"
      },
      "execution_count": null,
      "outputs": []
    },
    {
      "cell_type": "markdown",
      "source": [
        " 5. Create an iterator class in Python that generates the Fibonacci sequence up to a specified number of\n",
        "terms."
      ],
      "metadata": {
        "id": "rG8yhtaqXfyX"
      }
    },
    {
      "cell_type": "code",
      "source": [
        "class FibonacciIterator:\n",
        "    def __init__(self, n):\n",
        "        self.n = n  # Number of terms\n",
        "        self.a, self.b = 0, 1  # First two terms in the Fibonacci sequence\n",
        "        self.count = 0\n",
        "\n",
        "    def __iter__(self):\n",
        "        return self  # Returns the iterator object itself\n",
        "\n",
        "    def __next__(self):\n",
        "        if self.count >= self.n:\n",
        "            raise StopIteration  # Stop when the number of terms is reached\n",
        "        self.count += 1\n",
        "        self.a, self.b = self.b, self.a + self.b  # Generate the next Fibonacci number\n",
        "        return self.a\n",
        "\n",
        "# Example usage\n",
        "fibonacci = FibonacciIterator(10)  # Generate first 10 Fibonacci numbers\n",
        "for num in fibonacci:\n",
        "    print(num)"
      ],
      "metadata": {
        "id": "Y44KiX9WX397"
      },
      "execution_count": null,
      "outputs": []
    },
    {
      "cell_type": "markdown",
      "source": [
        " 6. Write a generator function in Python that yields the powers of 2 up to a given exponent."
      ],
      "metadata": {
        "id": "XH_EBhz5Xgig"
      }
    },
    {
      "cell_type": "code",
      "source": [
        "def powers_of_two(exponent):\n",
        "    for i in range(exponent + 1):\n",
        "        yield 2 ** i  # Yield powers of 2\n",
        "\n",
        "# Example usage\n",
        "for power in powers_of_two(5):  # Powers of 2 up to 2^5\n",
        "    print(power)"
      ],
      "metadata": {
        "id": "KEbAdzoTX6SA"
      },
      "execution_count": null,
      "outputs": []
    },
    {
      "cell_type": "markdown",
      "source": [
        " 7. Implement a generator function that reads a file line by line and yields each line as a string"
      ],
      "metadata": {
        "id": "7IHSKur7Xig4"
      }
    },
    {
      "cell_type": "code",
      "source": [
        "def read_file_line_by_line(filename):\n",
        "    with open(filename, 'r') as file:\n",
        "        for line in file:\n",
        "            yield line.strip()  # Yield each line as a string without extra newlines\n",
        "\n",
        "# Example usage\n",
        "# Assuming there's a file 'example.txt' in the current directory\n",
        "for line in read_file_line_by_line('example.txt'):\n",
        "    print(line"
      ],
      "metadata": {
        "id": "r5M6tNOxX7_P"
      },
      "execution_count": null,
      "outputs": []
    },
    {
      "cell_type": "markdown",
      "source": [
        " 8. Use a lambda function in Python to sort a list of tuples based on the second element of each tuple."
      ],
      "metadata": {
        "id": "LiXV7RPsXkc3"
      }
    },
    {
      "cell_type": "code",
      "source": [
        "# List of tuples\n",
        "tuples = [(1, 'apple'), (3, 'orange'), (2, 'banana')]\n",
        "\n",
        "# Sorting the list based on the second element of each tuple\n",
        "sorted_tuples = sorted(tuples, key=lambda x: x[1])\n",
        "\n",
        "print(sorted_tuples)"
      ],
      "metadata": {
        "id": "LHytAUpwX9z2"
      },
      "execution_count": null,
      "outputs": []
    },
    {
      "cell_type": "markdown",
      "source": [
        " 9. Write a Python program that uses `map()` to convert a list of temperatures from Celsius to Fahrenheit.\n",
        " \\"
      ],
      "metadata": {
        "id": "p43bhQVEXmGg"
      }
    },
    {
      "cell_type": "code",
      "source": [
        "def celsius_to_fahrenheit(celsius):\n",
        "    return (celsius * 9/5) + 32\n",
        "\n",
        "# List of temperatures in Celsius\n",
        "celsius_temperatures = [0, 20, 25, 30, 100]\n",
        "\n",
        "# Convert using map()\n",
        "fahrenheit_temperatures = list(map(celsius_to_fahrenheit, celsius_temperatures))\n",
        "\n",
        "print(fahrenheit_temperatures)"
      ],
      "metadata": {
        "id": "0fJelUo5X_mg"
      },
      "execution_count": null,
      "outputs": []
    },
    {
      "cell_type": "markdown",
      "source": [
        "\n",
        " 10. Create a Python program that uses `filter()` to remove all the vowels from a given string"
      ],
      "metadata": {
        "id": "7LMFKXlwXoso"
      }
    },
    {
      "cell_type": "code",
      "source": [
        "def remove_vowels(s):\n",
        "    vowels = \"aeiouAEIOU\"\n",
        "    return ''.join(filter(lambda x: x not in vowels, s))\n",
        "\n",
        "# Example usage\n",
        "input_string = \"Hello, World!\"\n",
        "output_string = remove_vowels(input_string)\n",
        "\n",
        "print(output_string)  # Output: \"Hll, Wrld!\""
      ],
      "metadata": {
        "id": "K537YAJxYCwn"
      },
      "execution_count": null,
      "outputs": []
    }
  ]
}